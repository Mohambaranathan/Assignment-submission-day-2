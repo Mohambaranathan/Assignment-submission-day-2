{
  "nbformat": 4,
  "nbformat_minor": 0,
  "metadata": {
    "colab": {
      "name": "Day 2 assignment",
      "provenance": [],
      "collapsed_sections": []
    },
    "kernelspec": {
      "name": "python3",
      "display_name": "Python 3"
    },
    "language_info": {
      "name": "python"
    }
  },
  "cells": [
    {
      "cell_type": "code",
      "metadata": {
        "colab": {
          "base_uri": "https://localhost:8080/"
        },
        "id": "fM74ENqX9UNp",
        "outputId": "30090a8b-1770-42f5-f79a-4bfe2617f2e3"
      },
      "source": [
        "# Day 2 assignment - OTP Generator(project)\n",
        "import random as r\n",
        "import string as s\n",
        "\n",
        "l = 6\n",
        "OTP = \"\"\n",
        "characters = s.ascii_letters + s.digits\n",
        "print(characters) \n",
        "\n",
        "for i in range(l):\n",
        " OTP = OTP + r.choice(characters)\n",
        "\n",
        "print(\"OTP:\", OTP)"
      ],
      "execution_count": null,
      "outputs": [
        {
          "output_type": "stream",
          "text": [
            "abcdefghijklmnopqrstuvwxyzABCDEFGHIJKLMNOPQRSTUVWXYZ0123456789\n",
            "OTP: MmteZ1\n"
          ],
          "name": "stdout"
        }
      ]
    },
    {
      "cell_type": "code",
      "metadata": {
        "id": "ryEflZE39YXL",
        "colab": {
          "base_uri": "https://localhost:8080/"
        },
        "outputId": "6862dc2d-b6c3-40cc-da34-d87e62bda014"
      },
      "source": [
        "#  Day 2 _Assignment 2 - Remove all occurence of an element from a list\n",
        "\n",
        "li = [1,5,5,6,34,646,5,4,6,4,5]\n",
        "val = 5\n",
        "try:\n",
        "        while True:\n",
        "            li.remove(val)\n",
        "except ValueError:\n",
        "        pass\n",
        "print(li)"
      ],
      "execution_count": null,
      "outputs": [
        {
          "output_type": "stream",
          "text": [
            "[1, 6, 34, 646, 4, 6, 4]\n"
          ],
          "name": "stdout"
        }
      ]
    },
    {
      "cell_type": "code",
      "metadata": {
        "colab": {
          "base_uri": "https://localhost:8080/"
        },
        "id": "iKN8ujLKB0u6",
        "outputId": "8edbdea2-13bf-4b96-edf2-7a2606ffac0b"
      },
      "source": [
        "# Day 2_ Assignment 3 - Check whether string is a pangram\n",
        "\n",
        "import string as str\n",
        "  \n",
        "alphabet = set(str.ascii_lowercase)\n",
        "  \n",
        "def ispangram(str):\n",
        "    return set(str.lower()) >= alphabet\n",
        "      \n",
        "\n",
        "str = \"The quick brown fox jumps over the lazy dog\"\n",
        "if(ispangram(str) == True):\n",
        "    print(\"Yes\")\n",
        "else:\n",
        "    print(\"No\")"
      ],
      "execution_count": null,
      "outputs": [
        {
          "output_type": "stream",
          "text": [
            "Yes\n"
          ],
          "name": "stdout"
        }
      ]
    },
    {
      "cell_type": "code",
      "metadata": {
        "id": "QI89IVpZCq73"
      },
      "source": [
        ""
      ],
      "execution_count": null,
      "outputs": []
    }
  ]
}